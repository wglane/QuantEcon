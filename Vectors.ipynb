{
 "cells": [
  {
   "cell_type": "markdown",
   "metadata": {},
   "source": [
    "# Vectors and Matrices"
   ]
  },
  {
   "cell_type": "code",
   "execution_count": 57,
   "metadata": {},
   "outputs": [
    {
     "data": {
      "text/plain": [
       "3-element Array{Int64,1}:\n",
       " 3\n",
       " 1\n",
       " 2"
      ]
     },
     "execution_count": 57,
     "metadata": {},
     "output_type": "execute_result"
    }
   ],
   "source": [
    "a = [1,2,3]\n",
    "\n",
    "# num elements:\n",
    "size(a)\n",
    "\n",
    "# num dimensions, 1-dim is \"flat\n",
    "ndims(a)\n",
    "\n",
    "# identity matrix, matrix = 2-dim vector\n",
    "eye(3)\n",
    "\n",
    "# spaces indicate columns, e.g. 1x3 row vector\n",
    "a = [1 2 3]\n",
    "\n",
    "# flatten\n",
    "squeeze(a, 1)\n",
    "\n",
    "# must transpose to create column vector\n",
    "a = [1 2 3]'\n",
    "\n",
    "# 2x2: ';' is row break\n",
    "a = [1 2; 3 4]\n",
    "\n",
    "# indexing is straightforward\n",
    "# first row\n",
    "a[1, :]\n",
    "\n",
    "# first col\n",
    "a[:, 1]\n",
    "\n",
    "# use booleans to get cell values\n",
    "a = randn(2, 2)\n",
    "b = [true; false; false; true]\n",
    "a[b]\n",
    "\n",
    "# arrays passed by reference\n",
    "a = [1, 2, 3]\n",
    "b = a\n",
    "b[2] = 3\n",
    "a # [1, 3, 3]\n",
    "\n",
    "# use copy to make copy\n",
    "b = copy(a)\n",
    "b[2] = 2\n",
    "a # differs from b\n",
    "\n",
    "# standard methods on arrays\n",
    "sum(a)\n",
    "std(a)\n",
    "var(a)\n",
    "maximum(a)\n",
    "minimum(a)\n",
    "\n",
    "# new (to me) methods\n",
    "a = [5, 1, 8]\n",
    "\n",
    "# index of max\n",
    "indmax(a)\n",
    "\n",
    "# sorted (in reverse, optional) indices\n",
    "sortperm(a, rev=true) "
   ]
  },
  {
   "cell_type": "markdown",
   "metadata": {},
   "source": [
    "# Linear Algebra"
   ]
  },
  {
   "cell_type": "code",
   "execution_count": 1,
   "metadata": {},
   "outputs": [
    {
     "data": {
      "text/plain": [
       "3-element BitArray{1}:\n",
       " false\n",
       "  true\n",
       " false"
      ]
     },
     "execution_count": 1,
     "metadata": {},
     "output_type": "execute_result"
    }
   ],
   "source": [
    "a = [1 2]\n",
    "b = [2 2; 3 1]\n",
    "\n",
    "# matrix mulitplication\n",
    "a * b\n",
    "\n",
    "# element-wise (broadcasting, in this case) multiplication\n",
    "a .* b\n",
    "\n",
    "# outer product\n",
    "a = [2; 3]\n",
    "b = [2 2]\n",
    "a * b\n",
    "\n",
    "# solve Ax = b\n",
    "A = [1 2; 3 1]\n",
    "b = [1; 3]\n",
    "\n",
    "A \\ b     # [1 0]'\n",
    "A * [1 0]' # b\n",
    "\n",
    "\n",
    "# dot product\n",
    "dot(ones(2), ones(2))\n",
    "\n",
    "# Element-wise\n",
    "i = [2 2]\n",
    "j = [3 4]\n",
    "i .* j\n",
    "\n",
    "# Comparisons\n",
    "a = [1, 2, 3]\n",
    "b = [2, 1, 3]\n",
    "\n",
    "a .> b"
   ]
  },
  {
   "cell_type": "code",
   "execution_count": 3,
   "metadata": {},
   "outputs": [
    {
     "name": "stdout",
     "output_type": "stream",
     "text": [
      "search: \u001b[1mn\u001b[22m\u001b[1mo\u001b[22m\u001b[1mr\u001b[22m\u001b[1mm\u001b[22m \u001b[1mn\u001b[22m\u001b[1mo\u001b[22m\u001b[1mr\u001b[22m\u001b[1mm\u001b[22mpath \u001b[1mn\u001b[22m\u001b[1mo\u001b[22m\u001b[1mr\u001b[22m\u001b[1mm\u001b[22malize \u001b[1mn\u001b[22m\u001b[1mo\u001b[22m\u001b[1mr\u001b[22m\u001b[1mm\u001b[22malize! \u001b[1mn\u001b[22m\u001b[1mo\u001b[22m\u001b[1mr\u001b[22m\u001b[1mm\u001b[22malize_string vec\u001b[1mn\u001b[22m\u001b[1mo\u001b[22m\u001b[1mr\u001b[22m\u001b[1mm\u001b[22m issub\u001b[1mn\u001b[22m\u001b[1mo\u001b[22m\u001b[1mr\u001b[22m\u001b[1mm\u001b[22mal\n",
      "\n"
     ]
    },
    {
     "data": {
      "text/markdown": [
       "```\n",
       "norm(A::AbstractArray, p::Real=2)\n",
       "```\n",
       "\n",
       "Compute the `p`-norm of a vector or the operator norm of a matrix `A`, defaulting to the 2-norm.\n",
       "\n",
       "```\n",
       "norm(A::AbstractVector, p::Real=2)\n",
       "```\n",
       "\n",
       "For vectors, this is equivalent to [`vecnorm`](@ref) and equal to:\n",
       "\n",
       "$$\n",
       "\\|A\\|_p = \\left( \\sum_{i=1}^n | a_i | ^p \\right)^{1/p}\n",
       "$$\n",
       "\n",
       "with $a_i$ the entries of $A$ and $n$ its length.\n",
       "\n",
       "`p` can assume any numeric value (even though not all values produce a mathematically valid vector norm). In particular, `norm(A, Inf)` returns the largest value in `abs(A)`, whereas `norm(A, -Inf)` returns the smallest.\n",
       "\n",
       "# Example\n",
       "\n",
       "```jldoctest\n",
       "julia> v = [3, -2, 6]\n",
       "3-element Array{Int64,1}:\n",
       "  3\n",
       " -2\n",
       "  6\n",
       "\n",
       "julia> norm(v)\n",
       "7.0\n",
       "\n",
       "julia> norm(v, Inf)\n",
       "6.0\n",
       "```\n",
       "\n",
       "```\n",
       "norm(A::AbstractMatrix, p::Real=2)\n",
       "```\n",
       "\n",
       "For matrices, the matrix norm induced by the vector `p`-norm is used, where valid values of `p` are `1`, `2`, or `Inf`. (Note that for sparse matrices, `p=2` is currently not implemented.) Use [`vecnorm`](@ref) to compute the Frobenius norm.\n",
       "\n",
       "When `p=1`, the matrix norm is the maximum absolute column sum of `A`:\n",
       "\n",
       "$$\n",
       "\\|A\\|_1 = \\max_{1 ≤ j ≤ n} \\sum_{i=1}^m | a_{ij} |\n",
       "$$\n",
       "\n",
       "with $a_{ij}$ the entries of $A$, and $m$ and $n$ its dimensions.\n",
       "\n",
       "When `p=2`, the matrix norm is the spectral norm, equal to the largest singular value of `A`.\n",
       "\n",
       "When `p=Inf`, the matrix norm is the maximum absolute row sum of `A`:\n",
       "\n",
       "$$\n",
       "\\|A\\|_\\infty = \\max_{1 ≤ i ≤ m} \\sum _{j=1}^n | a_{ij} |\n",
       "$$\n",
       "\n",
       "# Example\n",
       "\n",
       "```jldoctest\n",
       "julia> A = [1 -2 -3; 2 3 -1]\n",
       "2×3 Array{Int64,2}:\n",
       " 1  -2  -3\n",
       " 2   3  -1\n",
       "\n",
       "julia> norm(A, Inf)\n",
       "6.0\n",
       "```\n",
       "\n",
       "```\n",
       "norm(x::Number, p::Real=2)\n",
       "```\n",
       "\n",
       "For numbers, return $\\left( |x|^p \\right)^{1/p}$. This is equivalent to [`vecnorm`](@ref).\n",
       "\n",
       "```\n",
       "norm(A::RowVector, q::Real=2)\n",
       "```\n",
       "\n",
       "For row vectors, return the $q$-norm of `A`, which is equivalent to the p-norm with value `p = q/(q-1)`. They coincide at `p = q = 2`.\n",
       "\n",
       "The difference in norm between a vector space and its dual arises to preserve the relationship between duality and the inner product, and the result is consistent with the p-norm of `1 × n` matrix.\n"
      ],
      "text/plain": [
       "```\n",
       "norm(A::AbstractArray, p::Real=2)\n",
       "```\n",
       "\n",
       "Compute the `p`-norm of a vector or the operator norm of a matrix `A`, defaulting to the 2-norm.\n",
       "\n",
       "```\n",
       "norm(A::AbstractVector, p::Real=2)\n",
       "```\n",
       "\n",
       "For vectors, this is equivalent to [`vecnorm`](@ref) and equal to:\n",
       "\n",
       "$$\n",
       "\\|A\\|_p = \\left( \\sum_{i=1}^n | a_i | ^p \\right)^{1/p}\n",
       "$$\n",
       "\n",
       "with $a_i$ the entries of $A$ and $n$ its length.\n",
       "\n",
       "`p` can assume any numeric value (even though not all values produce a mathematically valid vector norm). In particular, `norm(A, Inf)` returns the largest value in `abs(A)`, whereas `norm(A, -Inf)` returns the smallest.\n",
       "\n",
       "# Example\n",
       "\n",
       "```jldoctest\n",
       "julia> v = [3, -2, 6]\n",
       "3-element Array{Int64,1}:\n",
       "  3\n",
       " -2\n",
       "  6\n",
       "\n",
       "julia> norm(v)\n",
       "7.0\n",
       "\n",
       "julia> norm(v, Inf)\n",
       "6.0\n",
       "```\n",
       "\n",
       "```\n",
       "norm(A::AbstractMatrix, p::Real=2)\n",
       "```\n",
       "\n",
       "For matrices, the matrix norm induced by the vector `p`-norm is used, where valid values of `p` are `1`, `2`, or `Inf`. (Note that for sparse matrices, `p=2` is currently not implemented.) Use [`vecnorm`](@ref) to compute the Frobenius norm.\n",
       "\n",
       "When `p=1`, the matrix norm is the maximum absolute column sum of `A`:\n",
       "\n",
       "$$\n",
       "\\|A\\|_1 = \\max_{1 ≤ j ≤ n} \\sum_{i=1}^m | a_{ij} |\n",
       "$$\n",
       "\n",
       "with $a_{ij}$ the entries of $A$, and $m$ and $n$ its dimensions.\n",
       "\n",
       "When `p=2`, the matrix norm is the spectral norm, equal to the largest singular value of `A`.\n",
       "\n",
       "When `p=Inf`, the matrix norm is the maximum absolute row sum of `A`:\n",
       "\n",
       "$$\n",
       "\\|A\\|_\\infty = \\max_{1 ≤ i ≤ m} \\sum _{j=1}^n | a_{ij} |\n",
       "$$\n",
       "\n",
       "# Example\n",
       "\n",
       "```jldoctest\n",
       "julia> A = [1 -2 -3; 2 3 -1]\n",
       "2×3 Array{Int64,2}:\n",
       " 1  -2  -3\n",
       " 2   3  -1\n",
       "\n",
       "julia> norm(A, Inf)\n",
       "6.0\n",
       "```\n",
       "\n",
       "```\n",
       "norm(x::Number, p::Real=2)\n",
       "```\n",
       "\n",
       "For numbers, return $\\left( |x|^p \\right)^{1/p}$. This is equivalent to [`vecnorm`](@ref).\n",
       "\n",
       "```\n",
       "norm(A::RowVector, q::Real=2)\n",
       "```\n",
       "\n",
       "For row vectors, return the $q$-norm of `A`, which is equivalent to the p-norm with value `p = q/(q-1)`. They coincide at `p = q = 2`.\n",
       "\n",
       "The difference in norm between a vector space and its dual arises to preserve the relationship between duality and the inner product, and the result is consistent with the p-norm of `1 × n` matrix.\n"
      ]
     },
     "execution_count": 3,
     "metadata": {},
     "output_type": "execute_result"
    }
   ],
   "source": []
  },
  {
   "cell_type": "markdown",
   "metadata": {},
   "source": [
    "# Exercises\n",
    "\n",
    "## Exercise 1"
   ]
  },
  {
   "cell_type": "code",
   "execution_count": 38,
   "metadata": {},
   "outputs": [
    {
     "data": {
      "text/plain": [
       "2×2 Array{Float64,2}:\n",
       " 0.671231  0.633474\n",
       " 0.633474  0.858874"
      ]
     },
     "execution_count": 38,
     "metadata": {},
     "output_type": "execute_result"
    }
   ],
   "source": [
    "function solve_lyapunov(A, Σ, n_iter=200)\n",
    "    seq = [eye(size(A)[1])]\n",
    "    for i in 1:n_iter-1\n",
    "        S_t = seq[end]\n",
    "        push!(seq, A * S_t * A' + Σ * Σ')\n",
    "    end\n",
    "    return seq\n",
    "end\n",
    "\n",
    "A, Σ = [0.8 -0.2; -0.1 0.7], [0.5 0.4; 0.4 0.6]\n",
    "S = solve_lyapunov(A, Σ)[end]\n",
    "A * S * A' + Σ * Σ'"
   ]
  },
  {
   "cell_type": "markdown",
   "metadata": {},
   "source": [
    "## Practice Simulation"
   ]
  },
  {
   "cell_type": "code",
   "execution_count": 18,
   "metadata": {},
   "outputs": [
    {
     "data": {
      "text/plain": [
       "1×19 RowVector{Float64,Array{Float64,1}}:\n",
       " 1.0  1.5  2.0  2.5  3.0  3.5  4.0  …  7.0  7.5  8.0  8.5  9.0  9.5  10.0"
      ]
     },
     "execution_count": 18,
     "metadata": {},
     "output_type": "execute_result"
    }
   ],
   "source": []
  },
  {
   "cell_type": "code",
   "execution_count": 17,
   "metadata": {},
   "outputs": [
    {
     "ename": "LoadError",
     "evalue": "\u001b[91mDimensionMismatch(\"dimensions must match\")\u001b[39m",
     "output_type": "error",
     "traceback": [
      "\u001b[91mDimensionMismatch(\"dimensions must match\")\u001b[39m",
      "",
      "Stacktrace:",
      " [1] \u001b[1mpromote_shape\u001b[22m\u001b[22m\u001b[1m(\u001b[22m\u001b[22m::Tuple{Base.OneTo{Int64},Base.OneTo{Int64}}, ::Tuple{Base.OneTo{Int64}}\u001b[1m)\u001b[22m\u001b[22m at \u001b[1m./indices.jl:79\u001b[22m\u001b[22m",
      " [2] \u001b[1m+\u001b[22m\u001b[22m\u001b[1m(\u001b[22m\u001b[22m::RowVector{Float64,Array{Float64,1}}, ::Array{Float64,1}\u001b[1m)\u001b[22m\u001b[22m at \u001b[1m./arraymath.jl:38\u001b[22m\u001b[22m",
      " [3] \u001b[1m+\u001b[22m\u001b[22m\u001b[1m(\u001b[22m\u001b[22m::Int64, ::RowVector{Float64,Array{Float64,1}}, ::Array{Float64,1}\u001b[1m)\u001b[22m\u001b[22m at \u001b[1m./operators.jl:424\u001b[22m\u001b[22m",
      " [4] \u001b[1minclude_string\u001b[22m\u001b[22m\u001b[1m(\u001b[22m\u001b[22m::String, ::String\u001b[1m)\u001b[22m\u001b[22m at \u001b[1m./loading.jl:522\u001b[22m\u001b[22m",
      " [5] \u001b[1mexecute_request\u001b[22m\u001b[22m\u001b[1m(\u001b[22m\u001b[22m::ZMQ.Socket, ::IJulia.Msg\u001b[1m)\u001b[22m\u001b[22m at \u001b[1m/Users/williamlane/.julia/v0.6/IJulia/src/execute_request.jl:193\u001b[22m\u001b[22m",
      " [6] \u001b[1m(::Compat.#inner#14{Array{Any,1},IJulia.#execute_request,Tuple{ZMQ.Socket,IJulia.Msg}})\u001b[22m\u001b[22m\u001b[1m(\u001b[22m\u001b[22m\u001b[1m)\u001b[22m\u001b[22m at \u001b[1m/Users/williamlane/.julia/v0.6/Compat/src/Compat.jl:332\u001b[22m\u001b[22m",
      " [7] \u001b[1meventloop\u001b[22m\u001b[22m\u001b[1m(\u001b[22m\u001b[22m::ZMQ.Socket\u001b[1m)\u001b[22m\u001b[22m at \u001b[1m/Users/williamlane/.julia/v0.6/IJulia/src/eventloop.jl:8\u001b[22m\u001b[22m",
      " [8] \u001b[1m(::IJulia.##13#16)\u001b[22m\u001b[22m\u001b[1m(\u001b[22m\u001b[22m\u001b[1m)\u001b[22m\u001b[22m at \u001b[1m./task.jl:335\u001b[22m\u001b[22m"
     ]
    }
   ],
   "source": [
    "X = collect(1:.5:10)'\n",
    "y = 2 + 0.4 * X + randn(size(x));"
   ]
  },
  {
   "cell_type": "code",
   "execution_count": null,
   "metadata": {},
   "outputs": [],
   "source": []
  }
 ],
 "metadata": {
  "kernelspec": {
   "display_name": "Julia 0.6.3",
   "language": "julia",
   "name": "julia-0.6"
  },
  "language_info": {
   "file_extension": ".jl",
   "mimetype": "application/julia",
   "name": "julia",
   "version": "0.6.3"
  }
 },
 "nbformat": 4,
 "nbformat_minor": 2
}
