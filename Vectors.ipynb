{
 "cells": [
  {
   "cell_type": "markdown",
   "metadata": {},
   "source": [
    "# Vectors and Matrices"
   ]
  },
  {
   "cell_type": "code",
   "execution_count": 57,
   "metadata": {},
   "outputs": [
    {
     "data": {
      "text/plain": [
       "3-element Array{Int64,1}:\n",
       " 3\n",
       " 1\n",
       " 2"
      ]
     },
     "execution_count": 57,
     "metadata": {},
     "output_type": "execute_result"
    }
   ],
   "source": [
    "a = [1,2,3]\n",
    "\n",
    "# num elements:\n",
    "size(a)\n",
    "\n",
    "# num dimensions, 1-dim is \"flat\n",
    "ndims(a)\n",
    "\n",
    "# identity matrix, matrix = 2-dim vector\n",
    "eye(3)\n",
    "\n",
    "# spaces indicate columns, e.g. 1x3 row vector\n",
    "a = [1 2 3]\n",
    "\n",
    "# flatten\n",
    "squeeze(a, 1)\n",
    "\n",
    "# must transpose to create column vector\n",
    "a = [1 2 3]'\n",
    "\n",
    "# 2x2: ';' is row break\n",
    "a = [1 2; 3 4]\n",
    "\n",
    "# indexing is straightforward\n",
    "# first row\n",
    "a[1, :]\n",
    "\n",
    "# first col\n",
    "a[:, 1]\n",
    "\n",
    "# use booleans to get cell values\n",
    "a = randn(2, 2)\n",
    "b = [true; false; false; true]\n",
    "a[b]\n",
    "\n",
    "# arrays passed by reference\n",
    "a = [1, 2, 3]\n",
    "b = a\n",
    "b[2] = 3\n",
    "a # [1, 3, 3]\n",
    "\n",
    "# use copy to make copy\n",
    "b = copy(a)\n",
    "b[2] = 2\n",
    "a # differs from b\n",
    "\n",
    "# standard methods on arrays\n",
    "sum(a)\n",
    "std(a)\n",
    "var(a)\n",
    "maximum(a)\n",
    "minimum(a)\n",
    "\n",
    "# new (to me) methods\n",
    "a = [5, 1, 8]\n",
    "\n",
    "# index of max\n",
    "indmax(a)\n",
    "\n",
    "# sorted (in reverse, optional) indices\n",
    "sortperm(a, rev=true) "
   ]
  },
  {
   "cell_type": "markdown",
   "metadata": {},
   "source": [
    "# Linear Algebra"
   ]
  },
  {
   "cell_type": "code",
   "execution_count": 18,
   "metadata": {},
   "outputs": [
    {
     "data": {
      "text/plain": [
       "3-element BitArray{1}:\n",
       " false\n",
       "  true\n",
       " false"
      ]
     },
     "execution_count": 18,
     "metadata": {},
     "output_type": "execute_result"
    }
   ],
   "source": [
    "a = [1 2]\n",
    "b = [2 2; 3 1]\n",
    "\n",
    "# matrix mulitplication\n",
    "a * b\n",
    "\n",
    "# element-wise (broadcasting, in this case) multiplication\n",
    "a .* b\n",
    "\n",
    "# outer product\n",
    "a = [2; 3]\n",
    "b = [2 2]\n",
    "a * b\n",
    "\n",
    "# solve Ax = b\n",
    "A = [1 2; 3 1]\n",
    "b = [1; 3]\n",
    "\n",
    "A \\ b     # [1 0]'\n",
    "A * [1 0]' # b\n",
    "\n",
    "\n",
    "# dot product\n",
    "dot(ones(2), ones(2))\n",
    "\n",
    "# Element-wise\n",
    "i = [2 2]\n",
    "j = [3 4]\n",
    "i .* j\n",
    "\n",
    "# Comparisons\n",
    "a = [1, 2, 3]\n",
    "b = [2, 1, 3]\n",
    "\n",
    "a .> b"
   ]
  },
  {
   "cell_type": "markdown",
   "metadata": {},
   "source": [
    "# Exercises\n",
    "\n",
    "## Exercise 1"
   ]
  },
  {
   "cell_type": "code",
   "execution_count": 38,
   "metadata": {},
   "outputs": [
    {
     "data": {
      "text/plain": [
       "2×2 Array{Float64,2}:\n",
       " 0.671231  0.633474\n",
       " 0.633474  0.858874"
      ]
     },
     "execution_count": 38,
     "metadata": {},
     "output_type": "execute_result"
    }
   ],
   "source": [
    "function solve_lyapunov(A, Σ, n_iter=200)\n",
    "    seq = [eye(size(A)[1])]\n",
    "    for i in 1:n_iter-1\n",
    "        S_t = seq[end]\n",
    "        push!(seq, A * S_t * A' + Σ * Σ')\n",
    "    end\n",
    "    return seq\n",
    "end\n",
    "\n",
    "A, Σ = [0.8 -0.2; -0.1 0.7], [0.5 0.4; 0.4 0.6]\n",
    "S = solve_lyapunov(A, Σ)[end]\n",
    "A * S * A' + Σ * Σ'"
   ]
  },
  {
   "cell_type": "code",
   "execution_count": null,
   "metadata": {},
   "outputs": [],
   "source": []
  }
 ],
 "metadata": {
  "kernelspec": {
   "display_name": "Julia 0.6.3",
   "language": "julia",
   "name": "julia-0.6"
  },
  "language_info": {
   "file_extension": ".jl",
   "mimetype": "application/julia",
   "name": "julia",
   "version": "0.6.3"
  }
 },
 "nbformat": 4,
 "nbformat_minor": 2
}
