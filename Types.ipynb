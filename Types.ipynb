{
 "cells": [
  {
   "cell_type": "markdown",
   "metadata": {},
   "source": [
    "# Types"
   ]
  },
  {
   "cell_type": "code",
   "execution_count": 1,
   "metadata": {},
   "outputs": [
    {
     "data": {
      "text/plain": [
       "Complex{Int64}"
      ]
     },
     "execution_count": 1,
     "metadata": {},
     "output_type": "execute_result"
    }
   ],
   "source": [
    "x = 2\n",
    "typeof(x)\n",
    "\n",
    "x += 2im\n",
    "typeof(x)"
   ]
  },
  {
   "cell_type": "markdown",
   "metadata": {},
   "source": [
    "## Rebinding"
   ]
  },
  {
   "cell_type": "code",
   "execution_count": 2,
   "metadata": {},
   "outputs": [
    {
     "data": {
      "text/plain": [
       "\"cat\""
      ]
     },
     "execution_count": 2,
     "metadata": {},
     "output_type": "execute_result"
    }
   ],
   "source": [
    "x = Int64(2)\n",
    "x = \"cat\""
   ]
  },
  {
   "cell_type": "markdown",
   "metadata": {},
   "source": [
    "## Multiple Dispatch"
   ]
  },
  {
   "cell_type": "code",
   "execution_count": 3,
   "metadata": {},
   "outputs": [
    {
     "data": {
      "text/html": [
       "+(x::<b>Float64</b>, y::<b>Float64</b>) at <a href=\"https://github.com/JuliaLang/julia/tree/d55cadc350d426a95fd967121ba77494d08364c8/base/float.jl#L375\" target=\"_blank\">float.jl:375</a>"
      ],
      "text/plain": [
       "+(x::Float64, y::Float64) in Base at float.jl:375"
      ]
     },
     "execution_count": 3,
     "metadata": {},
     "output_type": "execute_result"
    }
   ],
   "source": [
    "x, y = 1.0, 1.0\n",
    "@which +(x, y)"
   ]
  },
  {
   "cell_type": "code",
   "execution_count": 4,
   "metadata": {},
   "outputs": [
    {
     "data": {
      "text/html": [
       "+(x::<b>Number</b>, y::<b>Number</b>) at <a href=\"https://github.com/JuliaLang/julia/tree/d55cadc350d426a95fd967121ba77494d08364c8/base/promotion.jl#L249\" target=\"_blank\">promotion.jl:249</a>"
      ],
      "text/plain": [
       "+(x::Number, y::Number) in Base at promotion.jl:249"
      ]
     },
     "execution_count": 4,
     "metadata": {},
     "output_type": "execute_result"
    }
   ],
   "source": [
    "x, y = 1, 1.0\n",
    "@which +(x, y)"
   ]
  },
  {
   "cell_type": "markdown",
   "metadata": {},
   "source": [
    "### Methods"
   ]
  },
  {
   "cell_type": "code",
   "execution_count": 5,
   "metadata": {},
   "outputs": [
    {
     "data": {
      "text/html": [
       "9 methods for generic function <b>isfinite</b>:<ul><li> isfinite(x::<b>BigFloat</b>) at <a href=\"https://github.com/JuliaLang/julia/tree/d55cadc350d426a95fd967121ba77494d08364c8/base/mpfr.jl#L831\" target=\"_blank\">mpfr.jl:831</a></li> <li> isfinite(x::<b>Float16</b>) at <a href=\"https://github.com/JuliaLang/julia/tree/d55cadc350d426a95fd967121ba77494d08364c8/base/float.jl#L539\" target=\"_blank\">float.jl:539</a></li> <li> isfinite(x::<b>AbstractFloat</b>) at <a href=\"https://github.com/JuliaLang/julia/tree/d55cadc350d426a95fd967121ba77494d08364c8/base/float.jl#L538\" target=\"_blank\">float.jl:538</a></li> <li> isfinite(x::<b>Integer</b>) at <a href=\"https://github.com/JuliaLang/julia/tree/d55cadc350d426a95fd967121ba77494d08364c8/base/float.jl#L541\" target=\"_blank\">float.jl:541</a></li> <li> isfinite(::<b>Irrational</b>) at <a href=\"https://github.com/JuliaLang/julia/tree/d55cadc350d426a95fd967121ba77494d08364c8/base/irrationals.jl#L102\" target=\"_blank\">irrationals.jl:102</a></li> <li> isfinite(x::<b>Real</b>) at <a href=\"https://github.com/JuliaLang/julia/tree/d55cadc350d426a95fd967121ba77494d08364c8/base/float.jl#L540\" target=\"_blank\">float.jl:540</a></li> <li> isfinite(z::<b>Complex</b>) at <a href=\"https://github.com/JuliaLang/julia/tree/d55cadc350d426a95fd967121ba77494d08364c8/base/complex.jl#L117\" target=\"_blank\">complex.jl:117</a></li> <li> isfinite<i>{T<:Base.Dates.TimeType}</i>(::<b>Union{T, Type{T}}</b>) at <a href=\"https://github.com/JuliaLang/julia/tree/d55cadc350d426a95fd967121ba77494d08364c8/base/dates/types.jl#L316\" target=\"_blank\">dates/types.jl:316</a></li> <li> isfinite<i>{T<:Number}</i>(x::<b>AbstractArray{T,N} where N</b>) at <a href=\"https://github.com/JuliaLang/julia/tree/d55cadc350d426a95fd967121ba77494d08364c8/base/deprecated.jl#L56\" target=\"_blank\">deprecated.jl:56</a></li> </ul>"
      ],
      "text/plain": [
       "# 9 methods for generic function \"isfinite\":\n",
       "isfinite(x::BigFloat) in Base.MPFR at mpfr.jl:831\n",
       "isfinite(x::Float16) in Base at float.jl:539\n",
       "isfinite(x::AbstractFloat) in Base at float.jl:538\n",
       "isfinite(x::Integer) in Base at float.jl:541\n",
       "isfinite(::Irrational) in Base at irrationals.jl:102\n",
       "isfinite(x::Real) in Base at float.jl:540\n",
       "isfinite(z::Complex) in Base at complex.jl:117\n",
       "isfinite(::Union{T, Type{T}}) where T<:Base.Dates.TimeType in Base.Dates at dates/types.jl:316\n",
       "isfinite(x::AbstractArray{T,N} where N) where T<:Number in Base at deprecated.jl:56"
      ]
     },
     "execution_count": 5,
     "metadata": {},
     "output_type": "execute_result"
    }
   ],
   "source": [
    "isfinite(1 / 0)\n",
    "methods(isfinite)"
   ]
  },
  {
   "cell_type": "code",
   "execution_count": 6,
   "metadata": {},
   "outputs": [
    {
     "data": {
      "text/plain": [
       "2"
      ]
     },
     "execution_count": 6,
     "metadata": {},
     "output_type": "execute_result"
    }
   ],
   "source": [
    "# The following is undefined, but we can define our own version of it.\n",
    "# +(1, \"1\")\n",
    "\n",
    "# Add new method, need to import this\n",
    "importall Base.Operators\n",
    "\n",
    "# Add new method\n",
    "+(x::Number, y::String) = x + parse(Int, y)\n",
    "\n",
    "+(1, \"1\")"
   ]
  },
  {
   "cell_type": "markdown",
   "metadata": {},
   "source": [
    "## Type Hierarchy\n",
    "\n",
    "There are *concrete types* like Int64 and Float32 and *abstract types* like Int, Real, Number, and Any (all types are subtypes of \"Any\")."
   ]
  },
  {
   "cell_type": "code",
   "execution_count": 7,
   "metadata": {},
   "outputs": [
    {
     "data": {
      "text/plain": [
       "false"
      ]
     },
     "execution_count": 7,
     "metadata": {},
     "output_type": "execute_result"
    }
   ],
   "source": [
    "# true\n",
    "Int64 <: Int <: Real <: Number <: Any\n",
    "\n",
    "# true\n",
    "Complex64 <: Complex <: Number <: Any\n",
    "\n",
    "# false\n",
    "Complex64 <: Complex <: Real"
   ]
  },
  {
   "cell_type": "code",
   "execution_count": 8,
   "metadata": {},
   "outputs": [
    {
     "data": {
      "text/plain": [
       "true"
      ]
     },
     "execution_count": 8,
     "metadata": {},
     "output_type": "execute_result"
    }
   ],
   "source": [
    "Int64 <: Int <: Integer <: Real <: Number <: Any"
   ]
  },
  {
   "cell_type": "code",
   "execution_count": 9,
   "metadata": {},
   "outputs": [
    {
     "name": "stdout",
     "output_type": "stream",
     "text": [
      "Generic method invoked.\n",
      "Number function invoked.\n",
      "Integer function invoked.\n"
     ]
    }
   ],
   "source": [
    "function f(x::Any)\n",
    "    println(\"Generic method invoked.\")\n",
    "end\n",
    "\n",
    "function f(x::Number)\n",
    "    println(\"Number function invoked.\")\n",
    "end\n",
    "\n",
    "function f(x::Integer)\n",
    "    println(\"Integer function invoked.\")\n",
    "end\n",
    "\n",
    "for x in [\"cat\", -1.1, 1]\n",
    "    f(x)\n",
    "end"
   ]
  },
  {
   "cell_type": "markdown",
   "metadata": {},
   "source": [
    "## User-Defined Types"
   ]
  },
  {
   "cell_type": "markdown",
   "metadata": {},
   "source": [
    "### Default Constructors and Methods"
   ]
  },
  {
   "cell_type": "code",
   "execution_count": 10,
   "metadata": {},
   "outputs": [
    {
     "data": {
      "text/plain": [
       "\"two foos\""
      ]
     },
     "execution_count": 10,
     "metadata": {},
     "output_type": "execute_result"
    }
   ],
   "source": [
    "struct Foo\n",
    "end\n",
    "\n",
    "foofunc(x::Foo) = \"a foo\"\n",
    "\n",
    "# importall Base.Operators\n",
    "+(x::Foo, y::Foo) = \"two foos\"\n",
    "\n",
    "foo = Foo()\n",
    "hoo = Foo()\n",
    "typeof(foo)\n",
    "\n",
    "foo + hoo"
   ]
  },
  {
   "cell_type": "code",
   "execution_count": 11,
   "metadata": {},
   "outputs": [
    {
     "data": {
      "text/plain": [
       "Distributions.Normal{Float64}(μ=0.0, σ=1.0)"
      ]
     },
     "execution_count": 11,
     "metadata": {},
     "output_type": "execute_result"
    }
   ],
   "source": [
    "mutable struct AR1\n",
    "    a\n",
    "    b\n",
    "    σ\n",
    "    ϕ\n",
    "end\n",
    "\n",
    "using Distributions\n",
    "\n",
    "m = AR1(0.9, 1, 1, Beta(5, 5))\n",
    "\n",
    "typeof(m.ϕ)\n",
    "# mutate ϕ:\n",
    "m.ϕ = Normal(0, 1)"
   ]
  },
  {
   "cell_type": "code",
   "execution_count": 12,
   "metadata": {},
   "outputs": [
    {
     "data": {
      "text/plain": [
       "AR1_explicit(0.9, 1.0, 1.0, Distributions.Beta{Float64}(α=5.0, β=5.0))"
      ]
     },
     "execution_count": 12,
     "metadata": {},
     "output_type": "execute_result"
    }
   ],
   "source": [
    "# immutable struct with defined types\n",
    "# Could also use type Real, but abtract types\n",
    "# are slower than concrete types.\n",
    "struct AR1_explicit\n",
    "    a::Float64\n",
    "    b::Float64\n",
    "    σ::Float64\n",
    "    ϕ::Distribution\n",
    "end\n",
    "\n",
    "m = AR1_explicit(0.9, 1, 1, Beta(5, 5))\n",
    "\n",
    "# Error: immutable\n",
    "# m.ϕ = Normal()\n",
    "\n",
    "# Error: wrong type\n",
    "# m.a = \"foo\""
   ]
  },
  {
   "cell_type": "markdown",
   "metadata": {},
   "source": [
    "## Type Parameters"
   ]
  },
  {
   "cell_type": "code",
   "execution_count": 13,
   "metadata": {},
   "outputs": [
    {
     "data": {
      "text/plain": [
       "Array{Float64,1}"
      ]
     },
     "execution_count": 13,
     "metadata": {},
     "output_type": "execute_result"
    }
   ],
   "source": [
    "# Curly braces { } show parameterized types\n",
    "\n",
    "# Parameter: Int64\n",
    "typeof(1 + 2im)\n",
    "\n",
    "# Parameter: Float64\n",
    "typeof([1., 2, 3])"
   ]
  },
  {
   "cell_type": "markdown",
   "metadata": {},
   "source": [
    "### AR Process\n",
    "\n",
    "$X_{t+1} = aX_{t} + b + \\sigma W_{t+1}$"
   ]
  },
  {
   "cell_type": "code",
   "execution_count": 15,
   "metadata": {},
   "outputs": [
    {
     "data": {
      "text/plain": [
       "AR1_best{Float64}"
      ]
     },
     "execution_count": 15,
     "metadata": {},
     "output_type": "execute_result"
    }
   ],
   "source": [
    "struct AR1_best{T <: Real}\n",
    "    a::T\n",
    "    b::T\n",
    "    σ::T\n",
    "    ϕ::Distribution\n",
    "end\n",
    "\n",
    "m = AR1_best(0.9, 1., 1., Beta(5, 5))\n",
    "\n",
    "typeof(m)"
   ]
  },
  {
   "cell_type": "markdown",
   "metadata": {},
   "source": [
    "# Exercises"
   ]
  },
  {
   "cell_type": "markdown",
   "metadata": {},
   "source": [
    "## Exercise 1"
   ]
  },
  {
   "cell_type": "code",
   "execution_count": 73,
   "metadata": {},
   "outputs": [
    {
     "data": {
      "text/plain": [
       "11-element Array{Float64,1}:\n",
       "  0.944362\n",
       "  2.33129 \n",
       "  3.67813 \n",
       "  4.85762 \n",
       "  5.87232 \n",
       "  6.72859 \n",
       "  7.40329 \n",
       "  8.25971 \n",
       "  8.88714 \n",
       "  9.67843 \n",
       " 10.0613  "
      ]
     },
     "execution_count": 73,
     "metadata": {},
     "output_type": "execute_result"
    }
   ],
   "source": [
    "function simulate(m::AR1_best, n::Integer, x0::Real)\n",
    "    X = Array{Float64}(n+1)\n",
    "    X[1] = x0\n",
    "    for t in 1:n\n",
    "        X[t+1] = m.a * X[t] + m.b + m.σ * rand(m.ϕ)\n",
    "    end\n",
    "    return X\n",
    "end\n",
    "\n",
    "simulate(m, 10, rand())"
   ]
  },
  {
   "cell_type": "code",
   "execution_count": null,
   "metadata": {},
   "outputs": [],
   "source": []
  }
 ],
 "metadata": {
  "kernelspec": {
   "display_name": "Julia 0.6.3",
   "language": "julia",
   "name": "julia-0.6"
  },
  "language_info": {
   "file_extension": ".jl",
   "mimetype": "application/julia",
   "name": "julia",
   "version": "0.6.3"
  }
 },
 "nbformat": 4,
 "nbformat_minor": 2
}
